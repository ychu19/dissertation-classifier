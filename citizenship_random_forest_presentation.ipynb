{
  "nbformat": 4,
  "nbformat_minor": 0,
  "metadata": {
    "colab": {
      "name": "citizenship-random-forest-presentation.ipynb",
      "provenance": [],
      "toc_visible": true,
      "mount_file_id": "1S1InAtSrGcSPygT_oYkssmUgiZS5lwRm",
      "authorship_tag": "ABX9TyPPfA6tNjvFc3Bh+XbSzXJS",
      "include_colab_link": true
    },
    "kernelspec": {
      "name": "python3",
      "display_name": "Python 3"
    }
  },
  "cells": [
    {
      "cell_type": "markdown",
      "metadata": {
        "id": "view-in-github",
        "colab_type": "text"
      },
      "source": [
        "<a href=\"https://colab.research.google.com/github/ychu19/dissertation-classifier/blob/master/citizenship_random_forest_presentation.ipynb\" target=\"_parent\"><img src=\"https://colab.research.google.com/assets/colab-badge.svg\" alt=\"Open In Colab\"/></a>"
      ]
    },
    {
      "cell_type": "markdown",
      "metadata": {
        "id": "w3fIQdznQTw1"
      },
      "source": [
        "# Classifying Citizenship of Naturalized Individuals in Japan\n",
        "\n",
        "My dissertation project seeks to explain why permanent immigrants in Japan refused to acquire Japanese citizenship even when they were born and raised there [1]. I hypothesize that their home country attachment through diasporic organizations affects their propensity to naturalize.\n",
        "\n",
        "I pulled the naturalization records from the Japanese Government Gazette ([官報](https://search.npb.go.jp/kanpou/)), with information about each and every naturalized individuals in Japan since the 1950s. I focus on the time between the 1971 and 1980, with a total of 72,416 individuals who have naturalized. \n",
        "\n",
        "This document presents a smaller project within my dissertation - **classifying the country of origin for each naturalized individual**. The information about naturalized citizens from the Gazette includes (a) their names, (b) their names before naturalization [2], (c) their residential addresses, (d) their dates of birth, and (e) dates of approval. While the Gazette provides a rare and valuable opportunity to look into the individual-level features of naturalized citizens, it does not include information about their countries of origin. Fortunately, the Gazette did include original citizenship for those who naturalized in the 50s. **This project uses the data from 1954 to 1955 as prior to predict the countries of origin for those who naturalized in the 70s.**\n",
        "\n",
        "\n",
        "> [1]: Japan is not governed by *jus soli*, meaning that there is no birthright citizenship in Japan. [See Japan MOJ](http://www.moj.go.jp/ENGLISH/information/tnl-01.html)\n",
        "\n",
        "> [2]: Prior to 1983, most of the applicants to naturalization were implicitly asked to change their names to a Japanese-sounding name. [See Wikipedia](https://en.wikipedia.org/wiki/Japanese_nationality_law#Naturalization).\n",
        "\n"
      ]
    },
    {
      "cell_type": "markdown",
      "metadata": {
        "id": "tw150PcmxfxW"
      },
      "source": [
        "## Data Source\n",
        "\n",
        "Japanese Government Gazette ([官報](https://search.npb.go.jp/kanpou/)) in 1954 and 1955: "
      ]
    },
    {
      "cell_type": "code",
      "metadata": {
        "id": "UPMrvR_tmT7i"
      },
      "source": [
        "import pandas as pd\n",
        "import numpy as np\n",
        "from sklearn.ensemble import RandomForestRegressor\n",
        "from sklearn.ensemble import RandomForestClassifier\n",
        "from sklearn.metrics import mean_absolute_error\n",
        "from sklearn.model_selection import train_test_split\n",
        "from sklearn import tree"
      ],
      "execution_count": null,
      "outputs": []
    },
    {
      "cell_type": "code",
      "metadata": {
        "id": "vU_OYdahmMMm",
        "outputId": "b2019466-a7a7-4d20-c83f-100afa25d842",
        "colab": {
          "base_uri": "https://localhost:8080/",
          "height": 136
        }
      },
      "source": [
        "#@title Default title text\n",
        "data_1954_demo = pd.read_excel(\"/content/drive/My Drive/UIUC Grad School/0_dissertation/dat_1954_demo.xlsx\", sheet_name='anonym')\n",
        "print(data_1954_demo.head().to_markdown()"
      ],
      "execution_count": null,
      "outputs": [
        {
          "output_type": "stream",
          "text": [
            "|    | name    | citizenship   | address_anonym   | birthdate                |   household |   date_approval | betsume.1   |   betsume.2 |   betsume.3 |\n",
            "|---:|:--------|:--------------|:-----------------|:-------------------------|------------:|----------------:|:------------|------------:|------------:|\n",
            "|  0 | * 光 *  | 無国籍        | 東京都           | 大正十四年十二月十一日生 |           1 |        19540105 | nan         |         nan |         nan |\n",
            "|  1 | * 鎮 *  | 朝鮮          | 同県山           | 昭和十四年三月十六日生   |           2 |        19540105 | *城正*      |         nan |         nan |\n",
            "|  2 | *本 万* | 朝鮮          | 高知県           | 明治四十二年七月七日生   |           3 |        19540105 | *万*        |         nan |         nan |\n",
            "|  3 | *本 又* | 朝鮮          | 高知県           | 大正六年三月二十四日生   |           4 |        19540105 | *又*        |         nan |         nan |\n",
            "|  4 | *本 玉* | 朝鮮          | 同県同           | 昭和十三年九月二十九日生 |           5 |        19540105 | *玉*        |         nan |         nan |\n"
          ],
          "name": "stdout"
        }
      ]
    },
    {
      "cell_type": "markdown",
      "metadata": {
        "id": "TPsfY0CNaS5K"
      },
      "source": [
        "## Random Forest Classification from `sklearn`\n",
        "\n",
        "The major task here is to identify Koreans and Chinese among all the naturalized citizens (the scope of my dissertation focuses on [zainichi Koreans](https://en.wikipedia.org/wiki/Koreans_in_Japan) and [overseas Chinese](https://en.wikipedia.org/wiki/Overseas_Chinese) in Japan.) I do so using the following three features to predict the label, citizenship:\n",
        "\n",
        "*   Number of names each individual has before naturalization (\"betsume\")\n",
        "*   Last name, and whether the last names are common in Korea and China\n",
        "*   First name, and whether the first names are common in Korea and China\n",
        "\n",
        "To deal with the overlapped common names in Korea and China (like \"Lee\" and \"Kim\"), I also included crossed features of first and last names.\n"
      ]
    },
    {
      "cell_type": "markdown",
      "metadata": {
        "id": "9wdsjN0EwT1j"
      },
      "source": [
        "### Import data"
      ]
    },
    {
      "cell_type": "code",
      "metadata": {
        "id": "W_x5vttRQBjH"
      },
      "source": [
        "import pandas as pd\n",
        "import numpy as np\n",
        "from sklearn.ensemble import RandomForestRegressor\n",
        "from sklearn.ensemble import RandomForestClassifier\n",
        "from sklearn.metrics import mean_absolute_error\n",
        "from sklearn.model_selection import train_test_split\n",
        "from sklearn import tree"
      ],
      "execution_count": null,
      "outputs": []
    },
    {
      "cell_type": "code",
      "metadata": {
        "id": "aGx8EAoBdD0T"
      },
      "source": [
        "# reading data from 1954 and 1955\n",
        "data_1954 = pd.read_excel(\"/content/dat_1954.xlsx\")\n",
        "data_1955 = pd.read_excel(\"/content/dat_1955.xlsx\")\n",
        "\n",
        "frames = [data_1954, data_1955]\n",
        "data = pd.concat(frames).reset_index(drop=True)\n",
        "data = data.reindex(np.random.permutation(data.index)) # shuffle the rows\n",
        "\n"
      ],
      "execution_count": null,
      "outputs": []
    },
    {
      "cell_type": "markdown",
      "metadata": {
        "id": "2TIvHzMA3NZw"
      },
      "source": [
        "### Setting up X and y"
      ]
    },
    {
      "cell_type": "code",
      "metadata": {
        "id": "L7K6S-vc3Mx0"
      },
      "source": [
        "# create y\n",
        "def nationality(string):\n",
        "  \"\"\"Get a string from the archival data, \n",
        "     Return whether an individual is of (1) Korean, (2) Chinese, \n",
        "     or (0) Other national origin\"\"\"\n",
        "  nationality = 0 # default set as others\n",
        "  if string == '朝鮮':\n",
        "    nationality = 1\n",
        "  elif string in ['無国籍','中華民国']:\n",
        "    nationality = 2\n",
        "  return nationality\n",
        "\n",
        "# create y in data_1954 and data_1955 \n",
        "\n",
        "data['citizenship'] = data['citizenship'].apply(lambda x:nationality(x))"
      ],
      "execution_count": null,
      "outputs": []
    },
    {
      "cell_type": "code",
      "metadata": {
        "id": "PEJtkvz93ZYq"
      },
      "source": [
        "# creat X\n",
        "\n",
        "## 1st criteria: number of betsume\n",
        "def betsume_numbers(betsume1, betsume2, betsume3):\n",
        "  \"\"\"calculate the numbers of betsume regardless of the column sequence\"\"\"\n",
        "  b1 = pd.notna(betsume1)\n",
        "  b2 = pd.notna(betsume2)\n",
        "  b3 = pd.notna(betsume3) # python calculates Bloolean as integers \n",
        "  return (b1+b2+b3)\n",
        "\n",
        "betsume_columns = ['betsume.1','betsume.2','betsume.3']\n",
        "data['betsume'] = data[betsume_columns].apply(lambda x:betsume_numbers(*x), axis=1)"
      ],
      "execution_count": null,
      "outputs": []
    },
    {
      "cell_type": "code",
      "metadata": {
        "id": "7HqeR1wt4TcP"
      },
      "source": [
        "### 2nd criteria: most common last names in Korea and China\n",
        "\n",
        "## korean last names\n",
        "kr_last_names = pd.read_excel('/content/Korea_last_name_2015.xlsx')\n",
        "kr_last_names = kr_last_names[kr_last_names.columns[1]]\n",
        "kr_last_names = kr_last_names.dropna(axis=0)\n",
        "\n",
        "data['kr_last_name'] = data['last.name'].isin(kr_last_names).astype(int)\n",
        "\n",
        "## chinese last names\n",
        "ch_last_names = pd.read_excel('/content/China_last_names_2015.xlsx')\n",
        "ch_last_names = ch_last_names[ch_last_names.columns[2]]\n",
        "ch_last_names = ch_last_names.dropna(axis=0)\n",
        "\n",
        "data['ch_last_name'] = data['last.name'].isin(ch_last_names).astype(int)"
      ],
      "execution_count": null,
      "outputs": []
    },
    {
      "cell_type": "code",
      "metadata": {
        "id": "9yswM2YtfTL4"
      },
      "source": [
        "data['last_name_cross'] = data['kr_last_name'] * data['ch_last_name']"
      ],
      "execution_count": null,
      "outputs": []
    },
    {
      "cell_type": "code",
      "metadata": {
        "id": "zQ1eZhXj4tNT"
      },
      "source": [
        "### 3rd criteria: common first names in Korea and China/Taiwan\n",
        "\n",
        "data['first.name.1'] = data['first.name'].str.slice(start=0, stop=1).astype(\"string\")\n",
        "data['first.name.2'] = data['first.name'].str.slice(start=1, stop=2).astype(\"string\")"
      ],
      "execution_count": null,
      "outputs": []
    },
    {
      "cell_type": "code",
      "metadata": {
        "id": "r-EcgpuWcm7t"
      },
      "source": [
        "## Taiwanese first names\n",
        "tw = pd.read_excel('/content/Taiwan_common_first_names_2015.xlsx')\n",
        "tw_men = tw['男性取用名字'].str.split('、')\n",
        "tw_women = tw['女性取用名字'].str.split('、')\n",
        "\n",
        "tw_first_names = tw_men.append(tw_women, ignore_index=True)\n",
        "tw_first_names = np.concatenate(tw_first_names)\n",
        "tw_first_names = pd.Series(tw_first_names, dtype='string')"
      ],
      "execution_count": null,
      "outputs": []
    },
    {
      "cell_type": "code",
      "metadata": {
        "id": "DSvLkFdVcjyq",
        "outputId": "8e1039f3-f43b-4f6f-a72d-41a470e69a7e",
        "colab": {
          "base_uri": "https://localhost:8080/",
          "height": 71
        }
      },
      "source": [
        "## Chinese first names\n",
        "ch_first_names = pd.Series([\"偉\", \"芳\", \"娜\", \"敏\", \"靜\", \"秀英\", \"麗\", \"強\", \"磊\", \n",
        "                  \"洋\", \"艷\", \"勇\", \"軍\", \"杰\", \"娟\", \"英\", \"華\", \"文\", \"明\", \"蘭\", \n",
        "                  \"國\", \"春\", \"紅\", \"小\", \"梅\", \"平\", \"海\", \"珍\", \"榮\", \"建国\", \"国強\",\n",
        "                  \"志華\",\"国慶\", \"抗美\", \"援朝\", \"衛華\", \"保国\", \"躍進\", \"勝天\", \"超英\",\n",
        "                  \"超美\", \"躍華\", \"自力\", \"更生\", \"図強\",\"宝勤\"])#, dtype='string') # save as a list first\n",
        "ch_first_names = ch_first_names.append(tw_first_names)\n",
        "\n",
        "name_list = ch_first_names.str.cat()\n",
        "def name_in_list(name):\n",
        "    \"\"\"input is name\n",
        "       output is whether name is a member of our list\n",
        "       function also deal with NA values + \"\"\n",
        "       \"\"\"\n",
        "    if pd.notna(name) and len(name) > 0:\n",
        "      return name in name_list\n",
        "    else:\n",
        "      return False\n",
        "\n",
        "data['ch_first_name_1'] = data['first.name.1'].apply(lambda x:name_in_list(x))\n",
        "data['ch_first_name_2'] = data['first.name.2'].apply(lambda x:name_in_list(x))\n",
        "data['ch_first_name'] = data['ch_first_name_1'] + data['ch_first_name_2']\n",
        "data['ch_first_name']=data['ch_first_name']*1"
      ],
      "execution_count": null,
      "outputs": [
        {
          "output_type": "stream",
          "text": [
            "/usr/local/lib/python3.6/dist-packages/pandas/core/computation/expressions.py:178: UserWarning: evaluating in Python space because the '+' operator is not supported by numexpr for the bool dtype, use '|' instead\n",
            "  f\"evaluating in Python space because the {repr(op_str)} \"\n"
          ],
          "name": "stderr"
        }
      ]
    },
    {
      "cell_type": "code",
      "metadata": {
        "id": "5eLxkOb767ht",
        "outputId": "3e964463-394f-48a5-e4c6-bfb3e92ecd14",
        "colab": {
          "base_uri": "https://localhost:8080/",
          "height": 71
        }
      },
      "source": [
        "## Korean names\n",
        "kr_first_names = pd.Series([\"榮秀\",\"英秀\", \"英鎬\", \"榮鎬\", \"英植\", \"榮植\", \n",
        "                \"榮子\", \"英子\", \"靜子\", \"貞子\", \"順子\", \"純子\", \n",
        "                \"英澈\", \"榮澈\", \"洙\"\n",
        "                \"榮淑\", \"英淑\", \"宰\", \"載\",\n",
        "                \"道勇\", \"道永\", \"夏江\", \"忠吉\"])\n",
        "name_list = kr_first_names.str.cat()\n",
        "def name_in_list(name):\n",
        "    \"\"\"input is name\n",
        "       output is whether name is a member of our list\n",
        "       function also deal with NA values + \"\"\n",
        "       \"\"\"\n",
        "    if pd.notna(name) and len(name) > 0:\n",
        "      return name in name_list\n",
        "    else:\n",
        "      return False\n",
        "\n",
        "data['kr_first_name_1'] = data['first.name.1'].apply(lambda x:name_in_list(x))\n",
        "data['kr_first_name_2'] = data['first.name.2'].apply(lambda x:name_in_list(x))\n",
        "data['kr_first_name'] = data['kr_first_name_1'] + data['kr_first_name_2']\n",
        "data['kr_first_name'] = data['kr_first_name']*1"
      ],
      "execution_count": null,
      "outputs": [
        {
          "output_type": "stream",
          "text": [
            "/usr/local/lib/python3.6/dist-packages/pandas/core/computation/expressions.py:178: UserWarning: evaluating in Python space because the '+' operator is not supported by numexpr for the bool dtype, use '|' instead\n",
            "  f\"evaluating in Python space because the {repr(op_str)} \"\n"
          ],
          "name": "stderr"
        }
      ]
    },
    {
      "cell_type": "code",
      "metadata": {
        "id": "Lmzd6i_Tf0Yh"
      },
      "source": [
        "data['first_name_cross'] = data['kr_first_name'] * data['ch_first_name']"
      ],
      "execution_count": null,
      "outputs": []
    },
    {
      "cell_type": "markdown",
      "metadata": {
        "id": "9uaBQIKerbCj"
      },
      "source": [
        "### Separate Training and Test Data"
      ]
    },
    {
      "cell_type": "code",
      "metadata": {
        "id": "OowiQ2Txsao-"
      },
      "source": [
        "features = ['kr_last_name', 'ch_last_name', 'last_name_cross', 'first_name_cross', 'betsume']\n",
        "# features = ['kr_last_name', 'ch_last_name', 'last_name_cross', 'ch_first_name', 'kr_first_name', 'betsume']\n",
        "X = data[features]"
      ],
      "execution_count": null,
      "outputs": []
    },
    {
      "cell_type": "code",
      "metadata": {
        "id": "bOR13pZQoluN"
      },
      "source": [
        "train_set = data.sample(frac=0.75, random_state=0)\n",
        "test_set = data.drop(train_set.index)\n",
        "\n",
        "test_y = test_set.citizenship\n",
        "test_X = test_set[features]"
      ],
      "execution_count": null,
      "outputs": []
    },
    {
      "cell_type": "markdown",
      "metadata": {
        "id": "JDzWdkrRo3nD"
      },
      "source": [
        "#### Downsampling and Upweighing the Majority Group (Koreans)\n",
        "\n"
      ]
    },
    {
      "cell_type": "code",
      "metadata": {
        "id": "QqyjtKyZXiSf"
      },
      "source": [
        "# deal with imbalanced data\n",
        "target_chinese_sample_size = len(train_set[train_set['citizenship']==2]) \n",
        "target_chinese_sample_ratio = 0.35\n",
        "adjusted_sample_total = int(target_chinese_sample_size/target_chinese_sample_ratio)\n",
        "\n",
        "target_korean_sample_size = adjusted_sample_total - target_chinese_sample_size\n",
        "\n",
        "adjusted_sample_koreans = train_set[train_set['citizenship']==1].sample(\n",
        "    n=target_korean_sample_size, \n",
        "    random_state=0)\n",
        "adjusted_sample_chinese = train_set[train_set['citizenship']==2]\n",
        "\n",
        "frames = [adjusted_sample_koreans, adjusted_sample_chinese]\n",
        "adjusted_sample = pd.concat(frames)\n",
        "adjusted_sample = adjusted_sample.reindex(np.random.permutation(adjusted_sample.index)) # shuffle the rows\n",
        "\n",
        "y = adjusted_sample.citizenship\n",
        "X = adjusted_sample[features]"
      ],
      "execution_count": null,
      "outputs": []
    },
    {
      "cell_type": "code",
      "metadata": {
        "id": "DFtoccM0mEL1",
        "outputId": "c09e2ac1-fb85-4f27-a4e4-21170d6bca93",
        "colab": {
          "base_uri": "https://localhost:8080/",
          "height": 581
        }
      },
      "source": [
        "adjusted_sample.head() # check if rows were shuffled"
      ],
      "execution_count": null,
      "outputs": [
        {
          "output_type": "execute_result",
          "data": {
            "text/html": [
              "<div>\n",
              "<style scoped>\n",
              "    .dataframe tbody tr th:only-of-type {\n",
              "        vertical-align: middle;\n",
              "    }\n",
              "\n",
              "    .dataframe tbody tr th {\n",
              "        vertical-align: top;\n",
              "    }\n",
              "\n",
              "    .dataframe thead th {\n",
              "        text-align: right;\n",
              "    }\n",
              "</style>\n",
              "<table border=\"1\" class=\"dataframe\">\n",
              "  <thead>\n",
              "    <tr style=\"text-align: right;\">\n",
              "      <th></th>\n",
              "      <th>name</th>\n",
              "      <th>citizenship</th>\n",
              "      <th>birthplace</th>\n",
              "      <th>address</th>\n",
              "      <th>birthdate</th>\n",
              "      <th>V3</th>\n",
              "      <th>date_approval</th>\n",
              "      <th>betsume.1</th>\n",
              "      <th>betsume.2</th>\n",
              "      <th>betsume.3</th>\n",
              "      <th>last.name</th>\n",
              "      <th>first.name</th>\n",
              "      <th>betsume</th>\n",
              "      <th>kr_last_name</th>\n",
              "      <th>ch_last_name</th>\n",
              "      <th>last_name_cross</th>\n",
              "      <th>first.name.1</th>\n",
              "      <th>first.name.2</th>\n",
              "      <th>ch_first_name_1</th>\n",
              "      <th>ch_first_name_2</th>\n",
              "      <th>ch_first_name</th>\n",
              "      <th>kr_first_name_1</th>\n",
              "      <th>kr_first_name_2</th>\n",
              "      <th>kr_first_name</th>\n",
              "      <th>first_name_cross</th>\n",
              "    </tr>\n",
              "  </thead>\n",
              "  <tbody>\n",
              "    <tr>\n",
              "      <th>2350</th>\n",
              "      <td>全 光 博</td>\n",
              "      <td>1</td>\n",
              "      <td>大阪府中河内郡巽村大字西足代四百九十番地</td>\n",
              "      <td>岡山県津山市西寺町十二番地</td>\n",
              "      <td>昭和十九年九月五日生</td>\n",
              "      <td>1753</td>\n",
              "      <td>19541126</td>\n",
              "      <td>金成光博</td>\n",
              "      <td>NaN</td>\n",
              "      <td>NaN</td>\n",
              "      <td>全</td>\n",
              "      <td>光博</td>\n",
              "      <td>1</td>\n",
              "      <td>1</td>\n",
              "      <td>0</td>\n",
              "      <td>0</td>\n",
              "      <td>光</td>\n",
              "      <td>博</td>\n",
              "      <td>False</td>\n",
              "      <td>False</td>\n",
              "      <td>0</td>\n",
              "      <td>False</td>\n",
              "      <td>False</td>\n",
              "      <td>0</td>\n",
              "      <td>0</td>\n",
              "    </tr>\n",
              "    <tr>\n",
              "      <th>2862</th>\n",
              "      <td>清水 光子</td>\n",
              "      <td>1</td>\n",
              "      <td>宮城県仙台市原町清水沼上六番地</td>\n",
              "      <td>同県黒川郡落合村松坂字内問答山二十三番地</td>\n",
              "      <td>大正八年三月六日生</td>\n",
              "      <td>213</td>\n",
              "      <td>19550222</td>\n",
              "      <td>NaN</td>\n",
              "      <td>NaN</td>\n",
              "      <td>NaN</td>\n",
              "      <td>清水</td>\n",
              "      <td>光子</td>\n",
              "      <td>0</td>\n",
              "      <td>0</td>\n",
              "      <td>0</td>\n",
              "      <td>0</td>\n",
              "      <td>光</td>\n",
              "      <td>子</td>\n",
              "      <td>False</td>\n",
              "      <td>True</td>\n",
              "      <td>1</td>\n",
              "      <td>False</td>\n",
              "      <td>True</td>\n",
              "      <td>1</td>\n",
              "      <td>1</td>\n",
              "    </tr>\n",
              "    <tr>\n",
              "      <th>3720</th>\n",
              "      <td>呉 秀 三</td>\n",
              "      <td>2</td>\n",
              "      <td>住　所 　同区下目黒一丁目百五番地 　東京都目黒区三田町百十九番地</td>\n",
              "      <td>呉　秀　三 　同区下目黒一丁目百五番地</td>\n",
              "      <td>昭和十九年九月十日生</td>\n",
              "      <td>893</td>\n",
              "      <td>19550621</td>\n",
              "      <td>NaN</td>\n",
              "      <td>NaN</td>\n",
              "      <td>NaN</td>\n",
              "      <td>呉</td>\n",
              "      <td>秀三</td>\n",
              "      <td>0</td>\n",
              "      <td>0</td>\n",
              "      <td>0</td>\n",
              "      <td>0</td>\n",
              "      <td>秀</td>\n",
              "      <td>三</td>\n",
              "      <td>True</td>\n",
              "      <td>False</td>\n",
              "      <td>1</td>\n",
              "      <td>True</td>\n",
              "      <td>False</td>\n",
              "      <td>1</td>\n",
              "      <td>1</td>\n",
              "    </tr>\n",
              "    <tr>\n",
              "      <th>368</th>\n",
              "      <td>元 金 子</td>\n",
              "      <td>1</td>\n",
              "      <td>神奈川県横浜市鶴見区生麦町三百十二番地</td>\n",
              "      <td>同県同市西区藤棚町二丁目百九十七番地</td>\n",
              "      <td>大正五年一月二十日生</td>\n",
              "      <td>277</td>\n",
              "      <td>19540218</td>\n",
              "      <td>徳原キン</td>\n",
              "      <td>NaN</td>\n",
              "      <td>NaN</td>\n",
              "      <td>元</td>\n",
              "      <td>金子</td>\n",
              "      <td>1</td>\n",
              "      <td>1</td>\n",
              "      <td>0</td>\n",
              "      <td>0</td>\n",
              "      <td>金</td>\n",
              "      <td>子</td>\n",
              "      <td>True</td>\n",
              "      <td>True</td>\n",
              "      <td>1</td>\n",
              "      <td>False</td>\n",
              "      <td>True</td>\n",
              "      <td>1</td>\n",
              "      <td>1</td>\n",
              "    </tr>\n",
              "    <tr>\n",
              "      <th>4114</th>\n",
              "      <td>韓 君 子</td>\n",
              "      <td>1</td>\n",
              "      <td>福岡県遠賀郡水巻村吉田以下不詳</td>\n",
              "      <td>東京都北多摩郡村山町大字中藤三千二百六十番地</td>\n",
              "      <td>昭和八年七月三十日生</td>\n",
              "      <td>1238</td>\n",
              "      <td>19550820</td>\n",
              "      <td>金山君子</td>\n",
              "      <td>NaN</td>\n",
              "      <td>NaN</td>\n",
              "      <td>韓</td>\n",
              "      <td>君子</td>\n",
              "      <td>1</td>\n",
              "      <td>1</td>\n",
              "      <td>1</td>\n",
              "      <td>1</td>\n",
              "      <td>君</td>\n",
              "      <td>子</td>\n",
              "      <td>True</td>\n",
              "      <td>True</td>\n",
              "      <td>1</td>\n",
              "      <td>False</td>\n",
              "      <td>True</td>\n",
              "      <td>1</td>\n",
              "      <td>1</td>\n",
              "    </tr>\n",
              "  </tbody>\n",
              "</table>\n",
              "</div>"
            ],
            "text/plain": [
              "       name  citizenship  ... kr_first_name first_name_cross\n",
              "2350  全 光 博            1  ...             0                0\n",
              "2862  清水 光子            1  ...             1                1\n",
              "3720  呉 秀 三            2  ...             1                1\n",
              "368   元 金 子            1  ...             1                1\n",
              "4114  韓 君 子            1  ...             1                1\n",
              "\n",
              "[5 rows x 25 columns]"
            ]
          },
          "metadata": {
            "tags": []
          },
          "execution_count": 17
        }
      ]
    },
    {
      "cell_type": "code",
      "metadata": {
        "id": "563iaul8owI-"
      },
      "source": [
        "train_X, val_X, train_y, val_y = train_test_split(X, y, random_state=1) # train data and validation data"
      ],
      "execution_count": null,
      "outputs": []
    },
    {
      "cell_type": "markdown",
      "metadata": {
        "id": "ZP0022JipJWq"
      },
      "source": [
        "#### Model 1: RandomForestClassifier"
      ]
    },
    {
      "cell_type": "code",
      "metadata": {
        "id": "NA3UJSutpGqR",
        "outputId": "3353ae8f-5c8e-4452-9208-06eb0811e0e8",
        "colab": {
          "base_uri": "https://localhost:8080/",
          "height": 34
        }
      },
      "source": [
        "model = RandomForestClassifier(random_state=1,  class_weight={1:5,2:1})\n",
        "model = model.fit(train_X, train_y)\n",
        "model_predict = model.predict_proba(val_X)\n",
        "\n",
        "threshold = 0.85\n",
        "\n",
        "val_y = [val_y.values[i]==1 for i in range(len(val_y))]\n",
        "val_y = pd.Series(val_y).astype(int)\n",
        "y_pred = [model_predict[i][0]>=threshold for i in range(len(model_predict))]\n",
        "y_pred = pd.Series(y_pred).astype(int)\n",
        "\n",
        "train_pred = model.predict_proba(train_X)\n",
        "# train_pred = [model_predict[i][0]>=threshold for i in range(len(train_pred))]\n",
        "# train_pred = pd.Series(train_pred).astype(int)\n",
        "\n",
        "from sklearn.metrics import accuracy_score\n",
        "val_accuracy = accuracy_score(val_y, y_pred)\n",
        "print(\"validation accuracy: {:.3f}\".format(val_accuracy))"
      ],
      "execution_count": null,
      "outputs": [
        {
          "output_type": "stream",
          "text": [
            "validation accuracy: 0.708\n"
          ],
          "name": "stdout"
        }
      ]
    },
    {
      "cell_type": "code",
      "metadata": {
        "id": "EgJkogu6pRpA",
        "outputId": "c520b02c-3be6-4ac7-bf45-e873a930560b",
        "colab": {
          "base_uri": "https://localhost:8080/",
          "height": 34
        }
      },
      "source": [
        "from sklearn.metrics import roc_auc_score\n",
        "y_scores = [model_predict[i][0] for i in range(len(model_predict))]\n",
        "roc_auc_score(val_y, y_scores)"
      ],
      "execution_count": null,
      "outputs": [
        {
          "output_type": "execute_result",
          "data": {
            "text/plain": [
              "0.7352642276422763"
            ]
          },
          "metadata": {
            "tags": []
          },
          "execution_count": 20
        }
      ]
    },
    {
      "cell_type": "code",
      "metadata": {
        "id": "f1Swx5fJqLgV",
        "outputId": "e73514cd-2885-4add-add8-ce506a6d62d2",
        "colab": {
          "base_uri": "https://localhost:8080/",
          "height": 153
        }
      },
      "source": [
        "rf_model_on_full_data = RandomForestClassifier(random_state = 1,class_weight={1:5,2:1})\n",
        "\n",
        "rf_model_on_full_data.fit(X, y)"
      ],
      "execution_count": null,
      "outputs": [
        {
          "output_type": "execute_result",
          "data": {
            "text/plain": [
              "RandomForestClassifier(bootstrap=True, ccp_alpha=0.0, class_weight={1: 5, 2: 1},\n",
              "                       criterion='gini', max_depth=None, max_features='auto',\n",
              "                       max_leaf_nodes=None, max_samples=None,\n",
              "                       min_impurity_decrease=0.0, min_impurity_split=None,\n",
              "                       min_samples_leaf=1, min_samples_split=2,\n",
              "                       min_weight_fraction_leaf=0.0, n_estimators=100,\n",
              "                       n_jobs=None, oob_score=False, random_state=1, verbose=0,\n",
              "                       warm_start=False)"
            ]
          },
          "metadata": {
            "tags": []
          },
          "execution_count": 21
        }
      ]
    },
    {
      "cell_type": "code",
      "metadata": {
        "id": "K_fRSjS5pPVV",
        "outputId": "9790dbea-2f68-4136-fe3e-691214e3a9fe",
        "colab": {
          "base_uri": "https://localhost:8080/",
          "height": 34
        }
      },
      "source": [
        "# Cross-validation\n",
        "from sklearn.model_selection import cross_validate\n",
        "cv = cross_validate(rf_model_on_full_data, X, y, cv=10)\n",
        "# print(cv['test_score'])\n",
        "print(\"mean test scores: \", cv['test_score'].mean())"
      ],
      "execution_count": null,
      "outputs": [
        {
          "output_type": "stream",
          "text": [
            "mean test scores:  0.6961538461538461\n"
          ],
          "name": "stdout"
        }
      ]
    },
    {
      "cell_type": "markdown",
      "metadata": {
        "id": "gaeUtkX1V_xq"
      },
      "source": [
        "### Model 2: BaggingClassifier"
      ]
    },
    {
      "cell_type": "code",
      "metadata": {
        "id": "Yg4qRRHgV7TK",
        "outputId": "e536f416-a0f7-4494-b483-57a33332f717",
        "colab": {
          "base_uri": "https://localhost:8080/",
          "height": 34
        }
      },
      "source": [
        "from sklearn.ensemble import BaggingClassifier\n",
        "model_2 = BaggingClassifier(base_estimator = RandomForestClassifier(), \n",
        "                            random_state = 0)\n",
        "model_2 = model_2.fit(train_X, train_y, sample_weight=(5))\n",
        "model_2_pred = model_2.predict_proba(val_X)\n",
        "\n",
        "y_pred = [model_2_pred[i][0]>=threshold for i in range(len(model_2_pred))]\n",
        "y_pred = pd.Series(y_pred).astype(int)\n",
        "\n",
        "val_accuracy = accuracy_score(val_y, y_pred)\n",
        "print(\"validation accuracy: {:.3f}\".format(val_accuracy))\n",
        "\n",
        "# bagging_model_on_full_data = RandomForestClassifier(random_state = 1,class_weight={1:5,2:1})\n",
        "\n",
        "# rf_model_on_full_data.fit(X, y)"
      ],
      "execution_count": null,
      "outputs": [
        {
          "output_type": "stream",
          "text": [
            "validation accuracy: 0.423\n"
          ],
          "name": "stdout"
        }
      ]
    },
    {
      "cell_type": "markdown",
      "metadata": {
        "id": "Wq6NsPoVIroF"
      },
      "source": [
        "### Run on Test Data to Predict Citizenship"
      ]
    },
    {
      "cell_type": "code",
      "metadata": {
        "id": "hZjuTesqIvbP",
        "outputId": "ea215c75-7ac2-4290-a9d4-02d1cadec77e",
        "colab": {
          "base_uri": "https://localhost:8080/",
          "height": 34
        }
      },
      "source": [
        "test_preds = rf_model_on_full_data.predict_proba(test_X)\n",
        "\n",
        "test_y_pred = [test_preds[i][0]>=threshold for i in range(len(test_preds))]\n",
        "test_y_pred = pd.Series(test_y_pred).astype(int)\n",
        "test_accuracy = accuracy_score(test_y, test_y_pred)\n",
        "print(\"accuracy in test data: \", test_accuracy)"
      ],
      "execution_count": null,
      "outputs": [
        {
          "output_type": "stream",
          "text": [
            "accuracy in test data:  0.8934817170111288\n"
          ],
          "name": "stdout"
        }
      ]
    },
    {
      "cell_type": "markdown",
      "metadata": {
        "id": "0Jl8EAj7mnle"
      },
      "source": [
        "## Maybe try it with 1971 - 1980 data?"
      ]
    },
    {
      "cell_type": "code",
      "metadata": {
        "id": "JUxzEl0XmnVD"
      },
      "source": [
        "import os"
      ],
      "execution_count": null,
      "outputs": []
    },
    {
      "cell_type": "code",
      "metadata": {
        "id": "ZMQXkVtWnOQd"
      },
      "source": [
        "path = os.getcwd()\n",
        "files = os.listdir(path)\n",
        "files_xls = [f for f in files if (f[:2] == '19')]"
      ],
      "execution_count": null,
      "outputs": []
    },
    {
      "cell_type": "code",
      "metadata": {
        "id": "3f4cQyJNouy4",
        "outputId": "b6c92214-0814-4042-b698-d9899bac97b3",
        "colab": {
          "base_uri": "https://localhost:8080/",
          "height": 153
        }
      },
      "source": [
        "files_xls"
      ],
      "execution_count": null,
      "outputs": [
        {
          "output_type": "execute_result",
          "data": {
            "text/plain": [
              "['1977.dat.xlsx',\n",
              " '1979.dat.xlsx',\n",
              " '1978.dat.xlsx',\n",
              " '1974.dat.xlsx',\n",
              " '1975.dat.test.xlsx',\n",
              " '1976.dat.xlsx',\n",
              " '1973.dat.xlsx',\n",
              " '1980.dat.xlsx']"
            ]
          },
          "metadata": {
            "tags": []
          },
          "execution_count": 37
        }
      ]
    },
    {
      "cell_type": "code",
      "metadata": {
        "id": "aokuqh4poLqz"
      },
      "source": [
        "real_data = pd.DataFrame()\n",
        "for f in files_xls:\n",
        "    real_data = pd.read_excel(f, 'Sheet1')\n",
        "    real_data = real_data.append(real_data)"
      ],
      "execution_count": null,
      "outputs": []
    },
    {
      "cell_type": "code",
      "metadata": {
        "id": "tcJbXbZYooPa",
        "outputId": "31370332-3cbb-4002-9560-9210406e8b4b",
        "colab": {
          "base_uri": "https://localhost:8080/",
          "height": 204
        }
      },
      "source": [
        "real_data.head()"
      ],
      "execution_count": null,
      "outputs": [
        {
          "output_type": "execute_result",
          "data": {
            "text/html": [
              "<div>\n",
              "<style scoped>\n",
              "    .dataframe tbody tr th:only-of-type {\n",
              "        vertical-align: middle;\n",
              "    }\n",
              "\n",
              "    .dataframe tbody tr th {\n",
              "        vertical-align: top;\n",
              "    }\n",
              "\n",
              "    .dataframe thead th {\n",
              "        text-align: right;\n",
              "    }\n",
              "</style>\n",
              "<table border=\"1\" class=\"dataframe\">\n",
              "  <thead>\n",
              "    <tr style=\"text-align: right;\">\n",
              "      <th></th>\n",
              "      <th>id</th>\n",
              "      <th>namae</th>\n",
              "      <th>betsume1</th>\n",
              "      <th>betsume2</th>\n",
              "      <th>betsume3</th>\n",
              "      <th>jyuusyo</th>\n",
              "      <th>year</th>\n",
              "      <th>getsu</th>\n",
              "      <th>nichi</th>\n",
              "      <th>age</th>\n",
              "      <th>date_approval</th>\n",
              "      <th>surname</th>\n",
              "      <th>firstname</th>\n",
              "      <th>citizenship</th>\n",
              "    </tr>\n",
              "  </thead>\n",
              "  <tbody>\n",
              "    <tr>\n",
              "      <th>0</th>\n",
              "      <td>1</td>\n",
              "      <td>金和子</td>\n",
              "      <td>金順＃</td>\n",
              "      <td>金谷和子</td>\n",
              "      <td>隅谷和子</td>\n",
              "      <td>兵庫県明石市林一丁目八番三十六号</td>\n",
              "      <td>1950</td>\n",
              "      <td>7</td>\n",
              "      <td>28.0</td>\n",
              "      <td>29.0</td>\n",
              "      <td>19800104</td>\n",
              "      <td>金</td>\n",
              "      <td>和子</td>\n",
              "      <td>kr</td>\n",
              "    </tr>\n",
              "    <tr>\n",
              "      <th>1</th>\n",
              "      <td>2</td>\n",
              "      <td>朴慶南</td>\n",
              "      <td>藤本時子</td>\n",
              "      <td>星本時子</td>\n",
              "      <td>NaN</td>\n",
              "      <td>兵庫県姫路市阿保六百九十二番地</td>\n",
              "      <td>1948</td>\n",
              "      <td>6</td>\n",
              "      <td>9.0</td>\n",
              "      <td>32.0</td>\n",
              "      <td>19800104</td>\n",
              "      <td>朴</td>\n",
              "      <td>慶南</td>\n",
              "      <td>kr</td>\n",
              "    </tr>\n",
              "    <tr>\n",
              "      <th>2</th>\n",
              "      <td>2</td>\n",
              "      <td>李成昌</td>\n",
              "      <td>星本成昌</td>\n",
              "      <td>NaN</td>\n",
              "      <td>NaN</td>\n",
              "      <td>兵庫県姫路市阿保六百九十二番地</td>\n",
              "      <td>1950</td>\n",
              "      <td>2</td>\n",
              "      <td>8.0</td>\n",
              "      <td>30.0</td>\n",
              "      <td>19800104</td>\n",
              "      <td>李</td>\n",
              "      <td>成昌</td>\n",
              "      <td>kr</td>\n",
              "    </tr>\n",
              "    <tr>\n",
              "      <th>3</th>\n",
              "      <td>2</td>\n",
              "      <td>李政樹</td>\n",
              "      <td>星本政樹</td>\n",
              "      <td>NaN</td>\n",
              "      <td>NaN</td>\n",
              "      <td>兵庫県姫路市阿保六百九十二番地</td>\n",
              "      <td>1972</td>\n",
              "      <td>1</td>\n",
              "      <td>1.0</td>\n",
              "      <td>8.0</td>\n",
              "      <td>19800104</td>\n",
              "      <td>李</td>\n",
              "      <td>政樹</td>\n",
              "      <td>kr</td>\n",
              "    </tr>\n",
              "    <tr>\n",
              "      <th>4</th>\n",
              "      <td>2</td>\n",
              "      <td>李昌俊</td>\n",
              "      <td>星本昌俊</td>\n",
              "      <td>NaN</td>\n",
              "      <td>NaN</td>\n",
              "      <td>兵庫県姫路市阿保六百九十二番地</td>\n",
              "      <td>1970</td>\n",
              "      <td>9</td>\n",
              "      <td>18.0</td>\n",
              "      <td>9.0</td>\n",
              "      <td>19800104</td>\n",
              "      <td>李</td>\n",
              "      <td>昌俊</td>\n",
              "      <td>kr</td>\n",
              "    </tr>\n",
              "  </tbody>\n",
              "</table>\n",
              "</div>"
            ],
            "text/plain": [
              "   id namae betsume1 betsume2  ... date_approval surname  firstname  citizenship\n",
              "0   1   金和子      金順＃     金谷和子  ...      19800104       金         和子           kr\n",
              "1   2   朴慶南     藤本時子    星本時子　  ...      19800104       朴         慶南           kr\n",
              "2   2   李成昌    星本成昌　      NaN  ...      19800104       李         成昌           kr\n",
              "3   2   李政樹    星本政樹　      NaN  ...      19800104       李         政樹           kr\n",
              "4   2   李昌俊    星本昌俊　      NaN  ...      19800104       李         昌俊           kr\n",
              "\n",
              "[5 rows x 14 columns]"
            ]
          },
          "metadata": {
            "tags": []
          },
          "execution_count": 39
        }
      ]
    },
    {
      "cell_type": "code",
      "metadata": {
        "id": "Xvr5sQSRo52N"
      },
      "source": [
        "# creat X\n",
        "\n",
        "## numbers of betsume\n",
        "\n",
        "betsume_columns = ['betsume1','betsume2','betsume3']\n",
        "real_data['betsume'] = real_data[betsume_columns].apply(lambda x:betsume_numbers(*x), axis=1)"
      ],
      "execution_count": null,
      "outputs": []
    },
    {
      "cell_type": "code",
      "metadata": {
        "id": "NFoIj4-lq4lC"
      },
      "source": [
        "## last names\n",
        "\n",
        "real_data['kr_last_name'] = real_data['surname'].isin(kr_last_names).astype(int)\n",
        "real_data['ch_last_name'] = real_data['surname'].isin(ch_last_names).astype(int)\n",
        "\n",
        "real_data['last_name_cross'] = real_data['kr_last_name']*real_data['ch_last_name']"
      ],
      "execution_count": null,
      "outputs": []
    },
    {
      "cell_type": "code",
      "metadata": {
        "id": "w-3l5m1bqxky",
        "outputId": "a13d5b6a-afe5-4d8c-feb9-86de9ea2409d",
        "colab": {
          "base_uri": "https://localhost:8080/",
          "height": 71
        }
      },
      "source": [
        "## first names\n",
        "\n",
        "real_data['first.name.1'] = real_data['firstname'].str.slice(start=0, stop=1).astype(\"string\")\n",
        "real_data['first.name.2'] = real_data['firstname'].str.slice(start=1, stop=2).astype(\"string\")\n",
        "\n",
        "name_list = ch_first_names.str.cat()\n",
        "def name_in_list(name):\n",
        "    \"\"\"input is name\n",
        "       output is whether name is a member of our list\n",
        "       function also deal with NA values + \"\"\n",
        "       \"\"\"\n",
        "    if pd.notna(name) and len(name) > 0:\n",
        "      return name in name_list\n",
        "    else:\n",
        "      return False\n",
        "\n",
        "real_data['ch_first_name_1'] = real_data['first.name.1'].apply(lambda x:name_in_list(x))\n",
        "real_data['ch_first_name_2'] = real_data['first.name.2'].apply(lambda x:name_in_list(x))\n",
        "real_data['ch_first_name'] = real_data['ch_first_name_1'] + real_data['ch_first_name_2']\n",
        "real_data['ch_first_name']=real_data['ch_first_name']*1\n",
        "\n",
        "\n",
        "name_list = kr_first_names.str.cat()\n",
        "def name_in_list(name):\n",
        "    \"\"\"input is name\n",
        "       output is whether name is a member of our list\n",
        "       function also deal with NA values + \"\"\n",
        "       \"\"\"\n",
        "    if pd.notna(name) and len(name) > 0:\n",
        "      return name in name_list\n",
        "    else:\n",
        "      return False\n",
        "\n",
        "real_data['kr_first_name_1'] = real_data['first.name.1'].apply(lambda x:name_in_list(x))\n",
        "real_data['kr_first_name_2'] = real_data['first.name.2'].apply(lambda x:name_in_list(x))\n",
        "real_data['kr_first_name'] = real_data['kr_first_name_1'] + real_data['kr_first_name_2']\n",
        "real_data['kr_first_name']=real_data['kr_first_name']*1\n",
        "\n",
        "real_data['first_name_cross']=real_data['ch_first_name']*real_data['kr_first_name']"
      ],
      "execution_count": null,
      "outputs": [
        {
          "output_type": "stream",
          "text": [
            "/usr/local/lib/python3.6/dist-packages/pandas/core/computation/expressions.py:178: UserWarning: evaluating in Python space because the '+' operator is not supported by numexpr for the bool dtype, use '|' instead\n",
            "  f\"evaluating in Python space because the {repr(op_str)} \"\n"
          ],
          "name": "stderr"
        }
      ]
    },
    {
      "cell_type": "code",
      "metadata": {
        "id": "SOUsW6ZzsDBq"
      },
      "source": [
        "X = real_data[features]"
      ],
      "execution_count": null,
      "outputs": []
    },
    {
      "cell_type": "code",
      "metadata": {
        "id": "MnwAnXPjsh70"
      },
      "source": [
        "real_model = rf_model_on_full_data.predict_proba(X)\n",
        "\n",
        "real_y_pred = [real_model[i][0]>=threshold for i in range(len(real_model))]\n",
        "real_y_pred = pd.Series(real_y_pred).astype(int)\n",
        "\n",
        "def return_citizenship(x):\n",
        "  \"\"\"transforming binary categories back to citizenship\"\"\"\n",
        "  if x == 1:\n",
        "    return \"Korea\"\n",
        "  else:\n",
        "    return \"China\" \n",
        "\n",
        "real_y_pred = real_y_pred.apply(lambda x:return_citizenship(x))\n",
        "\n",
        "real_data['citizenship_predict']=real_y_pred"
      ],
      "execution_count": null,
      "outputs": []
    },
    {
      "cell_type": "code",
      "metadata": {
        "id": "AkDT3Ucfts_9",
        "outputId": "8425e857-de21-467a-cd14-4931f05fb28c",
        "colab": {
          "base_uri": "https://localhost:8080/",
          "height": 68
        }
      },
      "source": [
        "real_data.citizenship_predict.value_counts()"
      ],
      "execution_count": null,
      "outputs": [
        {
          "output_type": "execute_result",
          "data": {
            "text/plain": [
              "Korea    12904\n",
              "China     3058\n",
              "Name: citizenship_predict, dtype: int64"
            ]
          },
          "metadata": {
            "tags": []
          },
          "execution_count": 55
        }
      ]
    },
    {
      "cell_type": "code",
      "metadata": {
        "id": "qJNgxNBuvPor"
      },
      "source": [
        "real_data.to_excel(\"predicted_citizenship.xlsx\")"
      ],
      "execution_count": null,
      "outputs": []
    }
  ]
}
